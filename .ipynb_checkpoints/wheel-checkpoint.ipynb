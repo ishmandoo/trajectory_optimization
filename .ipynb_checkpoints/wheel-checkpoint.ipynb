{
 "cells": [
  {
   "cell_type": "code",
   "execution_count": 2,
   "metadata": {},
   "outputs": [],
   "source": [
    "import torch\n",
    "import numpy as np\n",
    "import matplotlib.pyplot as plt\n",
    "from scipy import optimize\n"
   ]
  },
  {
   "cell_type": "code",
   "execution_count": 52,
   "metadata": {},
   "outputs": [
    {
     "name": "stdout",
     "output_type": "stream",
     "text": [
      "tensor([0.0000, 0.1257, 0.2513, 0.3770, 0.5027, 0.6283, 0.7540, 0.8796, 1.0053,\n",
      "        1.1310, 1.2566, 1.3823, 1.5080, 1.6336, 1.7593, 1.8850, 2.0106, 2.1363,\n",
      "        2.2619, 2.3876, 2.5133, 2.6389, 2.7646, 2.8903, 3.0159, 3.1416, 3.2673,\n",
      "        3.3929, 3.5186, 3.6442, 3.7699, 3.8956, 4.0212, 4.1469, 4.2726, 4.3982,\n",
      "        4.5239, 4.6496, 4.7752, 4.9009, 5.0265, 5.1522, 5.2779, 5.4035, 5.5292,\n",
      "        5.6549, 5.7805, 5.9062, 6.0319, 6.1575])\n"
     ]
    },
    {
     "data": {
      "text/plain": [
       "0.12566370614359174"
      ]
     },
     "execution_count": 52,
     "metadata": {},
     "output_type": "execute_result"
    }
   ],
   "source": [
    "n = 50\n",
    "n_steps = 100\n",
    "radii = torch.tensor([1.] * n, requires_grad=True)\n",
    "dtheta = 2. * np.pi / n\n",
    "thetas = torch.arange(0,2*np.pi, dtheta)\n",
    "dt = 0.1\n",
    "torque = 1.\n",
    "mass = 1.\n",
    "\n",
    "print(thetas)\n",
    "dtheta"
   ]
  },
  {
   "cell_type": "code",
   "execution_count": 125,
   "metadata": {},
   "outputs": [],
   "source": [
    "def update_rs():\n",
    "    edge_positions = calculate_edge_positions(radii)\n",
    "    speeds = torch.zeros(n_steps)\n",
    "\n",
    "\n",
    "    for i in range(1,n_steps):\n",
    "        pivot_index = torch.argmin(edge_positions[:,1])\n",
    "        pivot_radius = radii[pivot_index]\n",
    "        force = torque / pivot_radius\n",
    "        speeds[i] = speeds[i-1] + (force * dt / mass)\n",
    "        rotational_speed = speed / pivot_radius\n",
    "        \n",
    "        edge_positions = rotate_edge_positions(edge_positions, pivot_index, rotational_speed * dt)\n",
    "        draw_wheel(edge_positions)"
   ]
  },
  {
   "cell_type": "code",
   "execution_count": null,
   "metadata": {},
   "outputs": [],
   "source": [
    "def draw_wheel(edge_positions):\n",
    "    xs, ys = edge_positions.transpose(0,1).detach().numpy()\n",
    "\n",
    "    plt.figure()\n",
    "    plt.scatter(xs, ys)\n",
    "    "
   ]
  },
  {
   "cell_type": "code",
   "execution_count": null,
   "metadata": {},
   "outputs": [],
   "source": []
  },
  {
   "cell_type": "code",
   "execution_count": 62,
   "metadata": {},
   "outputs": [],
   "source": [
    "def get_rot_matrix(theta):\n",
    "    return torch.tensor([[torch.cos(theta), torch.sin(theta)],[-torch.sin(theta), torch.cos(theta)]])"
   ]
  },
  {
   "cell_type": "code",
   "execution_count": null,
   "metadata": {},
   "outputs": [],
   "source": [
    "def calculate_edge_positions(radii):\n",
    "    return radii.unsqueeze(1) * torch.cat((torch.cos(thetas.reshape((-1,1))),torch.sin(thetas.reshape((-1,1)))), 1)"
   ]
  },
  {
   "cell_type": "code",
   "execution_count": 114,
   "metadata": {},
   "outputs": [],
   "source": [
    "def rotate_edge_positions(edge_positions, pivot_index, theta):\n",
    "    rot_matrix = get_rot_matrix(theta)\n",
    "    edge_positions = torch.matmul(rot_matrix, edge_positions.transpose(0,1)).transpose(0,1)\n",
    "    edge_positions -= torch.tensor(edge_positions[pivot_index])\n",
    "    return edge_positions"
   ]
  },
  {
   "cell_type": "code",
   "execution_count": null,
   "metadata": {},
   "outputs": [],
   "source": []
  },
  {
   "cell_type": "code",
   "execution_count": 110,
   "metadata": {
    "scrolled": false
   },
   "outputs": [
    {
     "name": "stderr",
     "output_type": "stream",
     "text": [
      "/usr/local/lib/python3.5/dist-packages/ipykernel_launcher.py:3: UserWarning: To copy construct from a tensor, it is recommended to use sourceTensor.clone().detach() or sourceTensor.clone().detach().requires_grad_(True), rather than torch.tensor(sourceTensor).\n",
      "  This is separate from the ipykernel package so we can avoid doing imports until\n"
     ]
    }
   ],
   "source": [
    "edge_positions = radii.unsqueeze(1) * torch.cat((torch.cos(thetas.reshape((-1,1))),torch.sin(thetas.reshape((-1,1)))), 1)\n",
    "min_height_index = torch.argmin(edge_positions[:,1])\n",
    "edge_positions -= torch.tensor(edge_positions[min_height_index])\n",
    "speeds = torch.tensor(n_steps)\n",
    "\n"
   ]
  },
  {
   "cell_type": "code",
   "execution_count": 124,
   "metadata": {},
   "outputs": [
    {
     "name": "stderr",
     "output_type": "stream",
     "text": [
      "/usr/local/lib/python3.5/dist-packages/ipykernel_launcher.py:3: UserWarning: To copy construct from a tensor, it is recommended to use sourceTensor.clone().detach() or sourceTensor.clone().detach().requires_grad_(True), rather than torch.tensor(sourceTensor).\n",
      "  This is separate from the ipykernel package so we can avoid doing imports until\n",
      "/usr/local/lib/python3.5/dist-packages/ipykernel_launcher.py:5: UserWarning: To copy construct from a tensor, it is recommended to use sourceTensor.clone().detach() or sourceTensor.clone().detach().requires_grad_(True), rather than torch.tensor(sourceTensor).\n",
      "  \"\"\"\n"
     ]
    },
    {
     "name": "stdout",
     "output_type": "stream",
     "text": [
      "tensor(0., grad_fn=<MinBackward1>)\n",
      "tensor(0., grad_fn=<MinBackward1>)\n",
      "tensor(0., grad_fn=<MinBackward1>)\n",
      "tensor(0., grad_fn=<MinBackward1>)\n",
      "tensor(0., grad_fn=<MinBackward1>)\n",
      "tensor(0., grad_fn=<MinBackward1>)\n",
      "tensor(0., grad_fn=<MinBackward1>)\n",
      "tensor(0., grad_fn=<MinBackward1>)\n",
      "tensor(0., grad_fn=<MinBackward1>)\n",
      "tensor(0., grad_fn=<MinBackward1>)\n"
     ]
    },
    {
     "data": {
      "image/png": "[encoded data removed]",
      "text/plain": [
       "<matplotlib.figure.Figure at 0x7fbe20fac2e8>"
      ]
     },
     "metadata": {
      "needs_background": "light"
     },
     "output_type": "display_data"
    }
   ],
   "source": [
    "edge_positions = radii.unsqueeze(1) * torch.cat((torch.cos(thetas.reshape((-1,1))),torch.sin(thetas.reshape((-1,1)))), 1)\n",
    "min_height_index = torch.argmin(edge_positions[:,1])\n",
    "edge_positions -= torch.tensor(edge_positions[min_height_index])\n",
    "speeds = torch.tensor(n_steps)\n",
    "\n",
    "xs, ys = edge_positions.transpose(0,1).detach().numpy()\n",
    "\n",
    "plt.figure()\n",
    "plt.scatter(xs, ys)\n",
    "\n",
    "for theta in torch.arange(10):\n",
    "    pivot_index = torch.argmin(edge_positions[:,1])\n",
    "    pivot_radius = radii[pivot_index]\n",
    "    \n",
    "    edge_positions = rotate_edge_positions(edge_positions, pivot_index, torch.tensor(.1))\n",
    "    print(torch.min(edge_positions[:,1]))\n",
    "\n",
    "    xs, ys = edge_positions.transpose(0,1).detach().numpy()\n",
    "    plt.scatter(xs, ys)"
   ]
  },
  {
   "cell_type": "code",
   "execution_count": null,
   "metadata": {},
   "outputs": [],
   "source": []
  }
 ],
 "metadata": {
  "kernelspec": {
   "display_name": "Python 3",
   "language": "python",
   "name": "python3"
  },
  "language_info": {
   "codemirror_mode": {
    "name": "ipython",
    "version": 3
   },
   "file_extension": ".py",
   "mimetype": "text/x-python",
   "name": "python",
   "nbconvert_exporter": "python",
   "pygments_lexer": "ipython3",
   "version": "3.5.2"
  }
 },
 "nbformat": 4,
 "nbformat_minor": 2
}
