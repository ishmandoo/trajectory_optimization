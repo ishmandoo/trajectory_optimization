{
 "cells": [
  {
   "cell_type": "code",
   "execution_count": 2,
   "metadata": {},
   "outputs": [],
   "source": [
    "import torch\n",
    "import numpy as np\n",
    "import matplotlib.pyplot as plt\n",
    "from scipy import optimize\n"
   ]
  },
  {
   "cell_type": "code",
   "execution_count": 52,
   "metadata": {},
   "outputs": [
    {
     "name": "stdout",
     "output_type": "stream",
     "text": [
      "tensor([0.0000, 0.1257, 0.2513, 0.3770, 0.5027, 0.6283, 0.7540, 0.8796, 1.0053,\n",
      "        1.1310, 1.2566, 1.3823, 1.5080, 1.6336, 1.7593, 1.8850, 2.0106, 2.1363,\n",
      "        2.2619, 2.3876, 2.5133, 2.6389, 2.7646, 2.8903, 3.0159, 3.1416, 3.2673,\n",
      "        3.3929, 3.5186, 3.6442, 3.7699, 3.8956, 4.0212, 4.1469, 4.2726, 4.3982,\n",
      "        4.5239, 4.6496, 4.7752, 4.9009, 5.0265, 5.1522, 5.2779, 5.4035, 5.5292,\n",
      "        5.6549, 5.7805, 5.9062, 6.0319, 6.1575])\n"
     ]
    },
    {
     "data": {
      "text/plain": [
       "0.12566370614359174"
      ]
     },
     "execution_count": 52,
     "metadata": {},
     "output_type": "execute_result"
    }
   ],
   "source": [
    "n = 50\n",
    "radii = torch.tensor([1.] * n, requires_grad=True)\n",
    "dtheta = 2. * np.pi / n\n",
    "thetas = torch.arange(0,2*np.pi, dtheta)\n",
    "dt = 0.1\n",
    "\n",
    "print(thetas)\n",
    "dtheta"
   ]
  },
  {
   "cell_type": "code",
   "execution_count": 55,
   "metadata": {},
   "outputs": [],
   "source": [
    "def update_rs():\n",
    "    edge_positions = radii.unsqueeze(1) * torch.cat((torch.cos(thetas.reshape((-1,1))),torch.sin(thetas.reshape((-1,1)))), 1)\n",
    "    pivot_index = torch.argmin(edge_positions[:,1])\n",
    "    edge_positions -= torch.tensor(edge_positions[pivot_index])"
   ]
  },
  {
   "cell_type": "code",
   "execution_count": 62,
   "metadata": {},
   "outputs": [],
   "source": [
    "def get_rot_matrix(theta):\n",
    "    return torch.tensor([[torch.cos(theta), torch.sin(theta)],[-torch.sin(theta), torch.cos(theta)]])"
   ]
  },
  {
   "cell_type": "code",
   "execution_count": null,
   "metadata": {},
   "outputs": [],
   "source": [
    "def rotate_edge_positions(theta):\n",
    "    rot_matrix = get_rot_matrix(theta)\n",
    "    edge_positions = torch.matmul(rot_matrix, edge_positions.transpose(0,1)).transpose(0,1)\n",
    "    min_height_index = torch.argmin(edge_positions[:,1])\n",
    "    edge_positions -= torch.tensor(edge_positions[min_height_index])"
   ]
  },
  {
   "cell_type": "code",
   "execution_count": 105,
   "metadata": {
    "scrolled": false
   },
   "outputs": [
    {
     "name": "stdout",
     "output_type": "stream",
     "text": [
      "tensor([[ 9.3721e-01,  9.9803e-01],\n",
      "        [ 9.2932e-01,  1.1234e+00],\n",
      "        [ 9.0579e-01,  1.2467e+00],\n",
      "        [ 8.6699e-01,  1.3662e+00],\n",
      "        [ 8.1352e-01,  1.4798e+00],\n",
      "        [ 7.4623e-01,  1.5858e+00],\n",
      "        [ 6.6618e-01,  1.6826e+00],\n",
      "        [ 5.7463e-01,  1.7685e+00],\n",
      "        [ 4.7304e-01,  1.8424e+00],\n",
      "        [ 3.6299e-01,  1.9029e+00],\n",
      "        [ 2.4623e-01,  1.9491e+00],\n",
      "        [ 1.2459e-01,  1.9803e+00],\n",
      "        [-5.9605e-08,  1.9961e+00],\n",
      "        [-1.2558e-01,  1.9961e+00],\n",
      "        [-2.5017e-01,  1.9803e+00],\n",
      "        [-3.7181e-01,  1.9491e+00],\n",
      "        [-4.8857e-01,  1.9029e+00],\n",
      "        [-5.9862e-01,  1.8424e+00],\n",
      "        [-7.0021e-01,  1.7685e+00],\n",
      "        [-7.9176e-01,  1.6826e+00],\n",
      "        [-8.7181e-01,  1.5858e+00],\n",
      "        [-9.3910e-01,  1.4798e+00],\n",
      "        [-9.9257e-01,  1.3662e+00],\n",
      "        [-1.0314e+00,  1.2467e+00],\n",
      "        [-1.0549e+00,  1.1234e+00],\n",
      "        [-1.0628e+00,  9.9803e-01],\n",
      "        [-1.0549e+00,  8.7269e-01],\n",
      "        [-1.0314e+00,  7.4934e-01],\n",
      "        [-9.9257e-01,  6.2990e-01],\n",
      "        [-9.3910e-01,  5.1627e-01],\n",
      "        [-8.7181e-01,  4.1024e-01],\n",
      "        [-7.9176e-01,  3.1348e-01],\n",
      "        [-7.0021e-01,  2.2751e-01],\n",
      "        [-5.9862e-01,  1.5370e-01],\n",
      "        [-4.8857e-01,  9.3200e-02],\n",
      "        [-3.7181e-01,  4.6970e-02],\n",
      "        [-2.5017e-01,  1.5740e-02],\n",
      "        [-1.2558e-01,  0.0000e+00],\n",
      "        [ 0.0000e+00,  0.0000e+00],\n",
      "        [ 1.2459e-01,  1.5740e-02],\n",
      "        [ 2.4623e-01,  4.6970e-02],\n",
      "        [ 3.6299e-01,  9.3200e-02],\n",
      "        [ 4.7304e-01,  1.5370e-01],\n",
      "        [ 5.7463e-01,  2.2751e-01],\n",
      "        [ 6.6618e-01,  3.1348e-01],\n",
      "        [ 7.4623e-01,  4.1024e-01],\n",
      "        [ 8.1352e-01,  5.1627e-01],\n",
      "        [ 8.6699e-01,  6.2990e-01],\n",
      "        [ 9.0579e-01,  7.4934e-01],\n",
      "        [ 9.2932e-01,  8.7269e-01]], grad_fn=<SubBackward0>)\n",
      "torch.Size([2, 2])\n",
      "torch.Size([2, 50])\n"
     ]
    },
    {
     "name": "stderr",
     "output_type": "stream",
     "text": [
      "/usr/local/lib/python3.5/dist-packages/ipykernel_launcher.py:3: UserWarning: To copy construct from a tensor, it is recommended to use sourceTensor.clone().detach() or sourceTensor.clone().detach().requires_grad_(True), rather than torch.tensor(sourceTensor).\n",
      "  This is separate from the ipykernel package so we can avoid doing imports until\n"
     ]
    },
    {
     "ename": "RuntimeError",
     "evalue": "size mismatch, m1: [2 x 2], m2: [50 x 2] at /pytorch/aten/src/TH/generic/THTensorMath.cpp:940",
     "output_type": "error",
     "traceback": [
      "\u001b[0;31m---------------------------------------------------------------------------\u001b[0m",
      "\u001b[0;31mRuntimeError\u001b[0m                              Traceback (most recent call last)",
      "\u001b[0;32m<ipython-input-105-f1dd22b2be8d>\u001b[0m in \u001b[0;36m<module>\u001b[0;34m\u001b[0m\n\u001b[1;32m      7\u001b[0m \u001b[0mprint\u001b[0m\u001b[0;34m(\u001b[0m\u001b[0mrot\u001b[0m\u001b[0;34m.\u001b[0m\u001b[0mshape\u001b[0m\u001b[0;34m)\u001b[0m\u001b[0;34m\u001b[0m\u001b[0m\n\u001b[1;32m      8\u001b[0m \u001b[0mprint\u001b[0m\u001b[0;34m(\u001b[0m\u001b[0medge_positions\u001b[0m\u001b[0;34m.\u001b[0m\u001b[0mtranspose\u001b[0m\u001b[0;34m(\u001b[0m\u001b[0;36m0\u001b[0m\u001b[0;34m,\u001b[0m\u001b[0;36m1\u001b[0m\u001b[0;34m)\u001b[0m\u001b[0;34m.\u001b[0m\u001b[0mshape\u001b[0m\u001b[0;34m)\u001b[0m\u001b[0;34m\u001b[0m\u001b[0m\n\u001b[0;32m----> 9\u001b[0;31m \u001b[0mprint\u001b[0m\u001b[0;34m(\u001b[0m\u001b[0mtorch\u001b[0m\u001b[0;34m.\u001b[0m\u001b[0mmatmul\u001b[0m\u001b[0;34m(\u001b[0m\u001b[0mrot\u001b[0m\u001b[0;34m,\u001b[0m \u001b[0medge_positions\u001b[0m\u001b[0;34m)\u001b[0m\u001b[0;34m)\u001b[0m\u001b[0;34m\u001b[0m\u001b[0m\n\u001b[0m",
      "\u001b[0;31mRuntimeError\u001b[0m: size mismatch, m1: [2 x 2], m2: [50 x 2] at /pytorch/aten/src/TH/generic/THTensorMath.cpp:940"
     ]
    }
   ],
   "source": [
    "edge_positions = radii.unsqueeze(1) * torch.cat((torch.cos(thetas.reshape((-1,1))),torch.sin(thetas.reshape((-1,1)))), 1)\n",
    "min_height_index = torch.argmin(edge_positions[:,1])\n",
    "edge_positions -= torch.tensor(edge_positions[min_height_index])\n",
    "\n",
    "print(edge_positions)\n",
    "rot = get_rot_matrix(torch.tensor(.2))\n",
    "print(rot.shape)\n",
    "print(edge_positions.transpose(0,1).shape)\n",
    "print(torch.matmul(rot, edge_positions.transpose(0,1)).transpose(0,1))\n"
   ]
  },
  {
   "cell_type": "code",
   "execution_count": 109,
   "metadata": {},
   "outputs": [
    {
     "name": "stderr",
     "output_type": "stream",
     "text": [
      "/usr/local/lib/python3.5/dist-packages/ipykernel_launcher.py:3: UserWarning: To copy construct from a tensor, it is recommended to use sourceTensor.clone().detach() or sourceTensor.clone().detach().requires_grad_(True), rather than torch.tensor(sourceTensor).\n",
      "  This is separate from the ipykernel package so we can avoid doing imports until\n",
      "/usr/local/lib/python3.5/dist-packages/ipykernel_launcher.py:13: UserWarning: To copy construct from a tensor, it is recommended to use sourceTensor.clone().detach() or sourceTensor.clone().detach().requires_grad_(True), rather than torch.tensor(sourceTensor).\n",
      "  del sys.path[0]\n"
     ]
    },
    {
     "data": {
      "text/plain": [
       "<matplotlib.collections.PathCollection at 0x7fbe21377f28>"
      ]
     },
     "execution_count": 109,
     "metadata": {},
     "output_type": "execute_result"
    },
    {
     "data": {
      "image/png": "[encoded data removed]",
      "text/plain": [
       "<matplotlib.figure.Figure at 0x7fbe213a42e8>"
      ]
     },
     "metadata": {
      "needs_background": "light"
     },
     "output_type": "display_data"
    }
   ],
   "source": [
    "edge_positions = radii.unsqueeze(1) * torch.cat((torch.cos(thetas.reshape((-1,1))),torch.sin(thetas.reshape((-1,1)))), 1)\n",
    "min_height_index = torch.argmin(edge_positions[:,1])\n",
    "edge_positions -= torch.tensor(edge_positions[min_height_index])\n",
    "\n",
    "xs, ys = edge_positions.transpose(0,1).detach().numpy()\n",
    "\n",
    "plt.figure()\n",
    "plt.scatter(xs, ys)\n",
    "\n",
    "\n",
    "xs, ys = edge_positions.transpose(0,1).detach().numpy()\n",
    "plt.scatter(xs, ys)"
   ]
  },
  {
   "cell_type": "code",
   "execution_count": null,
   "metadata": {},
   "outputs": [],
   "source": []
  }
 ],
 "metadata": {
  "kernelspec": {
   "display_name": "Python 3",
   "language": "python",
   "name": "python3"
  },
  "language_info": {
   "codemirror_mode": {
    "name": "ipython",
    "version": 3
   },
   "file_extension": ".py",
   "mimetype": "text/x-python",
   "name": "python",
   "nbconvert_exporter": "python",
   "pygments_lexer": "ipython3",
   "version": "3.5.2"
  }
 },
 "nbformat": 4,
 "nbformat_minor": 2
}
